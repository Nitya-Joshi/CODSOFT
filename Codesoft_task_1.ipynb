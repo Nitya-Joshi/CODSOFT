{
 "cells": [
  {
   "cell_type": "code",
   "execution_count": 4,
   "id": "1e147623-ac12-4084-b1e1-b105d405deea",
   "metadata": {},
   "outputs": [
    {
     "name": "stdout",
     "output_type": "stream",
     "text": [
      "Chatbot: Hi there!\n"
     ]
    },
    {
     "name": "stdin",
     "output_type": "stream",
     "text": [
      "You:  hi\n"
     ]
    },
    {
     "name": "stdout",
     "output_type": "stream",
     "text": [
      "Chatbot: Hello!\n"
     ]
    },
    {
     "name": "stdin",
     "output_type": "stream",
     "text": [
      "You:  what is your name?\n"
     ]
    },
    {
     "name": "stdout",
     "output_type": "stream",
     "text": [
      "Chatbot: I'm a chatbot. I can assist you with various tasks. Just ask!\n"
     ]
    },
    {
     "name": "stdin",
     "output_type": "stream",
     "text": [
      "You:  what is the weather today?\n"
     ]
    },
    {
     "name": "stdout",
     "output_type": "stream",
     "text": [
      "Chatbot: The weather is currently sunny and 75°F.\n"
     ]
    },
    {
     "name": "stdin",
     "output_type": "stream",
     "text": [
      "You:  tell me a joke\n"
     ]
    },
    {
     "name": "stdout",
     "output_type": "stream",
     "text": [
      "Chatbot: Parallel lines have so much in common. It's a shame they'll never meet.\n"
     ]
    },
    {
     "name": "stdin",
     "output_type": "stream",
     "text": [
      "You:  quit\n"
     ]
    },
    {
     "name": "stdout",
     "output_type": "stream",
     "text": [
      "Chatbot: Goodbye!\n"
     ]
    }
   ],
   "source": [
    "import re\n",
    "import random\n",
    "\n",
    "def greet():\n",
    "    responses = [\"Hello!\", \"Hi there!\", \"Hey!\"]\n",
    "    return random.choice(responses)\n",
    "\n",
    "def introduce():\n",
    "    return \"I'm a chatbot. I can assist you with various tasks. Just ask!\"\n",
    "\n",
    "def joke():\n",
    "    jokes = [\n",
    "        \"Why don't scientists trust atoms? Because they make up everything!\",\n",
    "        \"I told my wife she was drawing her eyebrows too high. She looked surprised!\",\n",
    "        \"Parallel lines have so much in common. It's a shame they'll never meet.\"\n",
    "    ]\n",
    "    return random.choice(jokes)\n",
    "\n",
    "def weather():\n",
    "    # Placeholder for weather API integration or simple weather responses\n",
    "    return \"The weather is currently sunny and 75°F.\"\n",
    "\n",
    "def default_response():\n",
    "    responses = [\n",
    "        \"I'm sorry, I didn't understand that.\",\n",
    "        \"Could you please rephrase that?\",\n",
    "        \"I'm not sure what you're asking.\"\n",
    "    ]\n",
    "    return random.choice(responses)\n",
    "\n",
    "def chatbot(input_text):\n",
    "    # Define patterns and corresponding functions\n",
    "    patterns_functions = {\n",
    "        r'hi|hello|hey': greet,\n",
    "        r'what(.*?)your name': introduce,\n",
    "        r'tell me a joke': joke,\n",
    "        r'what(.*?)the weather': weather\n",
    "    }\n",
    "    \n",
    "    # Iterate through patterns-functions dictionary\n",
    "    for pattern, func in patterns_functions.items():\n",
    "        if re.search(pattern, input_text, re.IGNORECASE):\n",
    "            return func()\n",
    "    \n",
    "    # If no match found, default response\n",
    "    return default_response()\n",
    "\n",
    "# Main loop for chatting\n",
    "print(\"Chatbot: \" + greet())\n",
    "while True:\n",
    "    user_input = input(\"You: \")\n",
    "    if user_input.lower() == 'quit':\n",
    "        print(\"Chatbot: Goodbye!\")\n",
    "        break\n",
    "    response = chatbot(user_input)\n",
    "    print(\"Chatbot:\", response)\n"
   ]
  },
  {
   "cell_type": "code",
   "execution_count": null,
   "id": "44168d36-e974-4c67-852e-2c9f2f831c96",
   "metadata": {},
   "outputs": [],
   "source": []
  }
 ],
 "metadata": {
  "kernelspec": {
   "display_name": "Python 3 (ipykernel)",
   "language": "python",
   "name": "python3"
  },
  "language_info": {
   "codemirror_mode": {
    "name": "ipython",
    "version": 3
   },
   "file_extension": ".py",
   "mimetype": "text/x-python",
   "name": "python",
   "nbconvert_exporter": "python",
   "pygments_lexer": "ipython3",
   "version": "3.12.3"
  }
 },
 "nbformat": 4,
 "nbformat_minor": 5
}
