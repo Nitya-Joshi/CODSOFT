{
 "cells": [
  {
   "cell_type": "markdown",
   "id": "228c2374-3631-41da-b93d-460429affc51",
   "metadata": {},
   "source": [
    "## CodeSoft Task 3\n",
    "### Nitya Joshi"
   ]
  },
  {
   "cell_type": "code",
   "execution_count": 3,
   "id": "7803e0a3-cc01-47da-ba5b-f9f1d8fdeb01",
   "metadata": {},
   "outputs": [
    {
     "name": "stdout",
     "output_type": "stream",
     "text": [
      "Hybrid Recommendations for User 1:\n",
      "title\n",
      "Movie D    3.5\n",
      "dtype: float64\n"
     ]
    }
   ],
   "source": [
    "import pandas as pd\n",
    "from sklearn.metrics.pairwise import cosine_similarity\n",
    "\n",
    "# Sample data\n",
    "ratings_dict = {\n",
    "    'user_id': [1, 1, 1, 2, 2, 3, 3, 4, 4, 4],\n",
    "    'movie_id': [1, 2, 3, 1, 2, 2, 3, 1, 3, 4],\n",
    "    'rating': [5, 4, 3, 5, 2, 4, 4, 2, 4, 5]\n",
    "}\n",
    "\n",
    "movies_dict = {\n",
    "    'movie_id': [1, 2, 3, 4],\n",
    "    'title': ['Movie A', 'Movie B', 'Movie C', 'Movie D'],\n",
    "    'genre': ['Action', 'Comedy', 'Action', 'Drama']\n",
    "}\n",
    "\n",
    "# Create DataFrame\n",
    "ratings_df = pd.DataFrame(ratings_dict)\n",
    "movies_df = pd.DataFrame(movies_dict)\n",
    "\n",
    "# Merge ratings with movie titles\n",
    "ratings_df = pd.merge(ratings_df, movies_df, on='movie_id')\n",
    "\n",
    "# Create user-item matrix\n",
    "user_item_matrix = ratings_df.pivot_table(index='user_id', columns='title', values='rating')\n",
    "\n",
    "# Fill NaN values with 0 for similarity calculation\n",
    "user_item_matrix_filled = user_item_matrix.fillna(0)\n",
    "\n",
    "# Compute cosine similarity between users\n",
    "user_similarity = cosine_similarity(user_item_matrix_filled)\n",
    "user_similarity_df = pd.DataFrame(user_similarity, index=user_item_matrix.index, columns=user_item_matrix.index)\n",
    "\n",
    "# Create a matrix of movie genres\n",
    "genre_matrix = pd.get_dummies(movies_df.set_index('title')['genre'])\n",
    "\n",
    "# Normalize genre matrix for cosine similarity\n",
    "genre_matrix_normalized = genre_matrix.div(genre_matrix.sum(axis=1), axis=0)\n",
    "\n",
    "# Compute cosine similarity between movies based on genres\n",
    "genre_similarity = cosine_similarity(genre_matrix_normalized)\n",
    "genre_similarity_df = pd.DataFrame(genre_similarity, index=genre_matrix.index, columns=genre_matrix.index)\n",
    "\n",
    "def get_hybrid_recommendations(user_id, user_item_matrix, user_similarity_df, genre_similarity_df, alpha=0.5, n_recommendations=2):\n",
    "    # Collaborative filtering component\n",
    "    similar_users = user_similarity_df[user_id].sort_values(ascending=False).index[1:]\n",
    "    similar_users_ratings = user_item_matrix.loc[similar_users].mean().sort_values(ascending=False)\n",
    "    user_rated_movies = user_item_matrix.loc[user_id].dropna().index\n",
    "    collaborative_recommendations = similar_users_ratings.drop(user_rated_movies)\n",
    "    \n",
    "    # Content-based filtering component\n",
    "    user_rated_movie_titles = user_item_matrix.loc[user_id].dropna().index\n",
    "    content_scores = genre_similarity_df[user_rated_movie_titles].mean(axis=1).sort_values(ascending=False)\n",
    "    content_based_recommendations = content_scores.drop(user_rated_movies)\n",
    "    \n",
    "    # Hybrid recommendation: combine scores with weighting\n",
    "    hybrid_scores = (alpha * collaborative_recommendations + (1 - alpha) * content_based_recommendations).sort_values(ascending=False)\n",
    "    \n",
    "    # Return top N recommendations\n",
    "    recommendations = hybrid_scores.head(n_recommendations)\n",
    "    \n",
    "    return recommendations\n",
    "\n",
    "# Get hybrid recommendations for user 1 with a 70% weight to collaborative filtering and 30% to content-based filtering\n",
    "user_id = 1\n",
    "alpha = 0.7\n",
    "recommendations = get_hybrid_recommendations(user_id, user_item_matrix, user_similarity_df, genre_similarity_df, alpha)\n",
    "print(f\"Hybrid Recommendations for User {user_id}:\")\n",
    "print(recommendations)\n"
   ]
  },
  {
   "cell_type": "code",
   "execution_count": null,
   "id": "8631637d-018d-4a86-8987-d0ea024cbeb6",
   "metadata": {},
   "outputs": [],
   "source": []
  }
 ],
 "metadata": {
  "kernelspec": {
   "display_name": "Python 3 (ipykernel)",
   "language": "python",
   "name": "python3"
  },
  "language_info": {
   "codemirror_mode": {
    "name": "ipython",
    "version": 3
   },
   "file_extension": ".py",
   "mimetype": "text/x-python",
   "name": "python",
   "nbconvert_exporter": "python",
   "pygments_lexer": "ipython3",
   "version": "3.12.3"
  }
 },
 "nbformat": 4,
 "nbformat_minor": 5
}
